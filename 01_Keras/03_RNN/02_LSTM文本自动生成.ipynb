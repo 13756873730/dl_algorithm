{
 "cells": [
  {
   "cell_type": "code",
   "execution_count": 1,
   "metadata": {},
   "outputs": [
    {
     "name": "stderr",
     "output_type": "stream",
     "text": [
      "Using TensorFlow backend.\n"
     ]
    }
   ],
   "source": [
    "import numpy as np\n",
    "from sklearn.model_selection import train_test_split\n",
    "from sklearn.metrics import accuracy_score\n",
    "from keras.utils import to_categorical\n",
    "from keras.models import Sequential\n",
    "from keras.layers import LSTM, Dense"
   ]
  },
  {
   "cell_type": "code",
   "execution_count": 2,
   "metadata": {},
   "outputs": [],
   "source": [
    "def load_data():\n",
    "    data = open('./data_02.txt', mode='r', encoding='UTF-8').read()\n",
    "    data = data.replace('\\n', '').replace('\\r', '')\n",
    "    return data"
   ]
  },
  {
   "cell_type": "code",
   "execution_count": 3,
   "metadata": {},
   "outputs": [],
   "source": [
    "# 滑动窗口提取数据\n",
    "def extract_data(data, slide):\n",
    "    x = []\n",
    "    y = []\n",
    "    for i in range(len(data) - slide):\n",
    "        x.append([a for a in data[i:i + slide]])\n",
    "        y.append(data[i + slide])\n",
    "    return x, y"
   ]
  },
  {
   "cell_type": "code",
   "execution_count": 4,
   "metadata": {},
   "outputs": [],
   "source": [
    "# 字符到数字的批量转化\n",
    "def char_to_int_data(x, y, char_to_int):\n",
    "    x_to_int = []\n",
    "    y_to_int = []\n",
    "    for i in range(len(x)):\n",
    "        x_to_int.append([char_to_int[char] for char in x[i]])\n",
    "        y_to_int.append([char_to_int[char] for char in y[i]])\n",
    "    return x_to_int, y_to_int"
   ]
  },
  {
   "cell_type": "code",
   "execution_count": 5,
   "metadata": {},
   "outputs": [],
   "source": [
    "# 实现输入字符文章的批量处理，输入整个字符、滑动窗口大小、转化字典\n",
    "def data_preprocessing(data, slide, num_letters, char_to_int):\n",
    "    char_Data = extract_data(data, slide)\n",
    "    int_Data = char_to_int_data(char_Data[0], char_Data[1], char_to_int)\n",
    "    Input = int_Data[0]\n",
    "    Output = list(np.array(int_Data[1]).flatten())\n",
    "    Input_RESHAPED = np.array(Input).reshape(len(Input), slide)\n",
    "    new = np.random.randint(0, 10, size=[Input_RESHAPED.shape[0], Input_RESHAPED.shape[1], num_letters])\n",
    "    for i in range(Input_RESHAPED.shape[0]):\n",
    "        for j in range(Input_RESHAPED.shape[1]):\n",
    "            new[i, j, :] = to_categorical(Input_RESHAPED[i, j], num_classes=num_letters)\n",
    "    return new, Output"
   ]
  },
  {
   "cell_type": "code",
   "execution_count": 6,
   "metadata": {},
   "outputs": [],
   "source": [
    "# 文本数据\n",
    "data = load_data()"
   ]
  },
  {
   "cell_type": "code",
   "execution_count": 7,
   "metadata": {},
   "outputs": [
    {
     "name": "stdout",
     "output_type": "stream",
     "text": [
      "letters: ['j', 'a', 'r', 'H', 'q', 'c', 'v', 'A', '0', '!', '2', '4', 'S', 'y', 'h', '’', 'N', 'l', 'p', 'b', '9', 'w', 'e', ',', 'd', 'C', 't', 'U', 'M', 'i', '\"', 'u', 'B', ' ', 'x', 'F', 'O', 'm', 'g', 'z', 'I', 'T', 'k', \"'\", '5', 'D', 'f', '-', 'n', 's', 'P', 'W', '1', ';', 'o', '.']\n",
      "int_to_char_dictionary: {0: 'j', 1: 'a', 2: 'r', 3: 'H', 4: 'q', 5: 'c', 6: 'v', 7: 'A', 8: '0', 9: '!', 10: '2', 11: '4', 12: 'S', 13: 'y', 14: 'h', 15: '’', 16: 'N', 17: 'l', 18: 'p', 19: 'b', 20: '9', 21: 'w', 22: 'e', 23: ',', 24: 'd', 25: 'C', 26: 't', 27: 'U', 28: 'M', 29: 'i', 30: '\"', 31: 'u', 32: 'B', 33: ' ', 34: 'x', 35: 'F', 36: 'O', 37: 'm', 38: 'g', 39: 'z', 40: 'I', 41: 'T', 42: 'k', 43: \"'\", 44: '5', 45: 'D', 46: 'f', 47: '-', 48: 'n', 49: 's', 50: 'P', 51: 'W', 52: '1', 53: ';', 54: 'o', 55: '.'}\n",
      "char_int_to_dictionary: {'j': 0, 'a': 1, 'r': 2, 'H': 3, 'q': 4, 'c': 5, 'v': 6, 'A': 7, '0': 8, '!': 9, '2': 10, '4': 11, 'S': 12, 'y': 13, 'h': 14, '’': 15, 'N': 16, 'l': 17, 'p': 18, 'b': 19, '9': 20, 'w': 21, 'e': 22, ',': 23, 'd': 24, 'C': 25, 't': 26, 'U': 27, 'M': 28, 'i': 29, '\"': 30, 'u': 31, 'B': 32, ' ': 33, 'x': 34, 'F': 35, 'O': 36, 'm': 37, 'g': 38, 'z': 39, 'I': 40, 'T': 41, 'k': 42, \"'\": 43, '5': 44, 'D': 45, 'f': 46, '-': 47, 'n': 48, 's': 49, 'P': 50, 'W': 51, '1': 52, ';': 53, 'o': 54, '.': 55}\n"
     ]
    }
   ],
   "source": [
    "# 形成字典\n",
    "letters = list(set(data))\n",
    "print('letters: {}'.format(letters))\n",
    "int_to_char_dictionary = {a: b for a, b in enumerate(letters)}\n",
    "char_int_to_dictionary = {b: a for a, b in enumerate(letters)}\n",
    "print('int_to_char_dictionary: {}'.format(int_to_char_dictionary))\n",
    "print('char_int_to_dictionary: {}'.format(char_int_to_dictionary))"
   ]
  },
  {
   "cell_type": "code",
   "execution_count": 8,
   "metadata": {},
   "outputs": [
    {
     "name": "stdout",
     "output_type": "stream",
     "text": [
      "(64348, 20, 56) 64348\n"
     ]
    }
   ],
   "source": [
    "# 依据前20个字符，预测第21个字符\n",
    "count = 20\n",
    "X, y = data_preprocessing(\n",
    "    data=data,\n",
    "    slide=count,\n",
    "    num_letters=len(letters),\n",
    "    char_to_int=char_int_to_dictionary\n",
    ")\n",
    "print(X.shape, len(y))"
   ]
  },
  {
   "cell_type": "code",
   "execution_count": 9,
   "metadata": {},
   "outputs": [],
   "source": [
    "# 训练-测试 数据集分离\n",
    "X_train, X_test, y_train, y_test = train_test_split(X, np.array(y))"
   ]
  },
  {
   "cell_type": "code",
   "execution_count": 10,
   "metadata": {},
   "outputs": [],
   "source": [
    "# 将y_train转为One-hot格式\n",
    "y_train_category = to_categorical(y_train, num_classes=len(letters))"
   ]
  },
  {
   "cell_type": "code",
   "execution_count": 11,
   "metadata": {},
   "outputs": [
    {
     "name": "stdout",
     "output_type": "stream",
     "text": [
      "_________________________________________________________________\n",
      "Layer (type)                 Output Shape              Param #   \n",
      "=================================================================\n",
      "lstm_1 (LSTM)                (None, 20)                6160      \n",
      "_________________________________________________________________\n",
      "dense_1 (Dense)              (None, 56)                1176      \n",
      "=================================================================\n",
      "Total params: 7,336\n",
      "Trainable params: 7,336\n",
      "Non-trainable params: 0\n",
      "_________________________________________________________________\n"
     ]
    }
   ],
   "source": [
    "# 建立模型\n",
    "lstm = Sequential()\n",
    "lstm.add(\n",
    "    LSTM(\n",
    "        units=count,\n",
    "        input_shape=(X_train.shape[1], X_train.shape[2]),\n",
    "        activation='relu'\n",
    "    )\n",
    ")\n",
    "lstm.add(\n",
    "    Dense(\n",
    "        units=len(letters),\n",
    "        activation='softmax'\n",
    "    )\n",
    ")\n",
    "# 模型配置\n",
    "lstm.compile(\n",
    "    loss='categorical_crossentropy',\n",
    "    optimizer='adam',\n",
    "    metrics=['accuracy']\n",
    ")\n",
    "# 查看模型\n",
    "lstm.summary()"
   ]
  },
  {
   "cell_type": "code",
   "execution_count": 18,
   "metadata": {},
   "outputs": [
    {
     "name": "stdout",
     "output_type": "stream",
     "text": [
      "Epoch 1/10\n",
      "48261/48261 [==============================] - 3s 69us/step - loss: 1.8538 - acc: 0.4484\n",
      "Epoch 2/10\n",
      "48261/48261 [==============================] - 4s 92us/step - loss: 1.8492 - acc: 0.4498\n",
      "Epoch 3/10\n",
      "48261/48261 [==============================] - 5s 93us/step - loss: 1.8536 - acc: 0.4490\n",
      "Epoch 4/10\n",
      "48261/48261 [==============================] - 4s 92us/step - loss: 1.8494 - acc: 0.4493\n",
      "Epoch 5/10\n",
      "48261/48261 [==============================] - 4s 90us/step - loss: 1.8470 - acc: 0.4520\n",
      "Epoch 6/10\n",
      "48261/48261 [==============================] - 4s 90us/step - loss: 1.8493 - acc: 0.4514\n",
      "Epoch 7/10\n",
      "48261/48261 [==============================] - 4s 90us/step - loss: 1.8587 - acc: 0.4471\n",
      "Epoch 8/10\n",
      "48261/48261 [==============================] - 4s 90us/step - loss: 1.8416 - acc: 0.4525\n",
      "Epoch 9/10\n",
      "48261/48261 [==============================] - 4s 89us/step - loss: 1.8375 - acc: 0.4538\n",
      "Epoch 10/10\n",
      "48261/48261 [==============================] - 4s 89us/step - loss: 1.8374 - acc: 0.4532\n"
     ]
    },
    {
     "data": {
      "text/plain": [
       "<keras.callbacks.History at 0x26adae7c908>"
      ]
     },
     "execution_count": 18,
     "metadata": {},
     "output_type": "execute_result"
    }
   ],
   "source": [
    "# 模型训练\n",
    "lstm.fit(\n",
    "    X_train, y_train_category,\n",
    "    batch_size=3000,\n",
    "    epochs=10,\n",
    "    verbose=1\n",
    ")"
   ]
  },
  {
   "cell_type": "code",
   "execution_count": 19,
   "metadata": {},
   "outputs": [
    {
     "name": "stdout",
     "output_type": "stream",
     "text": [
      "0.4538447193385964\n",
      "0.4445825822092373\n"
     ]
    }
   ],
   "source": [
    "# train score\n",
    "y_train_predict = lstm.predict_classes(X_train)\n",
    "train_score = accuracy_score(y_true=y_train, y_pred=y_train_predict)\n",
    "print(train_score)\n",
    "\n",
    "# test score\n",
    "y_test_predict = lstm.predict_classes(X_test)\n",
    "test_score = accuracy_score(y_true=y_test, y_pred=y_test_predict)\n",
    "print(test_score)"
   ]
  },
  {
   "cell_type": "code",
   "execution_count": 20,
   "metadata": {},
   "outputs": [
    {
     "name": "stdout",
     "output_type": "stream",
     "text": [
      "0.3116883116883117\n"
     ]
    }
   ],
   "source": [
    "# predict score\n",
    "words = 'My name is Blair. My father bought a computer for me last year. I learned to search the Internet.'\n",
    "X_predict, y_predict_true = data_preprocessing(\n",
    "    data=words,\n",
    "    slide=count,\n",
    "    num_letters=len(letters),\n",
    "    char_to_int=char_int_to_dictionary\n",
    ")\n",
    "y_predict = lstm.predict_classes(X_predict)\n",
    "predict_score = accuracy_score(y_true=y_predict_true, y_pred=y_predict)\n",
    "print(predict_score)"
   ]
  },
  {
   "cell_type": "code",
   "execution_count": 21,
   "metadata": {},
   "outputs": [
    {
     "name": "stdout",
     "output_type": "stream",
     "text": [
      "My name is Blair. My father bought a computer for me last year. I learned to search the Internet.\n",
      "My name is Blair. My father bought a computer for me last year. I learned to search the Internet. I will store the chool some the chool stor in the choole have they will store the chool some the chool stor in the choole have they will store the chool some the chool stor in the choole have they will store the chool some the chool stor in the choole have they will store the chool some the chool stor in the choole have they will store the chool some the chool stor in the choole have they will store the chool some the chool stor in the choole have they will store the chool some the chool stor in the choole have they will store the chool some the chool stor in the choole have they will store the chool some the chool stor in the choole have they will store the chool some the chool stor in the choole have they will store the chool some the chool stor in the choole have they will store the chool some the chool stor in the choole have they will store the chool some the chool stor in the choole \n"
     ]
    }
   ],
   "source": [
    "# write article contains 1000 letters\n",
    "words = 'My name is Blair. My father bought a computer for me last year. I learned to search the Internet.'\n",
    "word_count = 1000\n",
    "while len(words) < word_count:\n",
    "    words = words + ' '\n",
    "    X, y = data_preprocessing(\n",
    "        data=words,\n",
    "        slide=count,\n",
    "        num_letters=len(letters),\n",
    "        char_to_int=char_int_to_dictionary\n",
    "    )\n",
    "    X = X[len(X) - 1, :, :]\n",
    "    X = X.reshape(1, 20, 56)\n",
    "    y_predict = lstm.predict_classes(X)\n",
    "    y_predict = y_predict[0]\n",
    "    y_predict = int_to_char_dictionary.get(y_predict)\n",
    "    words = words[0:(len(words) - 1):1] + y_predict\n",
    "print(words)"
   ]
  },
  {
   "cell_type": "code",
   "execution_count": null,
   "metadata": {},
   "outputs": [],
   "source": []
  }
 ],
 "metadata": {
  "kernelspec": {
   "display_name": "Python 3",
   "language": "python",
   "name": "python3"
  },
  "language_info": {
   "codemirror_mode": {
    "name": "ipython",
    "version": 3
   },
   "file_extension": ".py",
   "mimetype": "text/x-python",
   "name": "python",
   "nbconvert_exporter": "python",
   "pygments_lexer": "ipython3",
   "version": "3.6.5"
  }
 },
 "nbformat": 4,
 "nbformat_minor": 2
}
